{
  "nbformat": 4,
  "nbformat_minor": 0,
  "metadata": {
    "colab": {
      "provenance": []
    },
    "kernelspec": {
      "name": "python3",
      "display_name": "Python 3"
    },
    "language_info": {
      "name": "python"
    }
  },
  "cells": [
    {
      "cell_type": "code",
      "execution_count": null,
      "metadata": {
        "id": "OB7Rt1dCni7J"
      },
      "outputs": [],
      "source": [
        "def levenstein(str_1, str_2):\n",
        "  n, m = len(str_1), len(str_2)\n",
        "  current_row = []\n",
        "  for number in range(0, m+1):\n",
        "    current_row += [number]\n",
        "\n",
        "  for i in range(1, n + 1):\n",
        "    previous_row = current_row\n",
        "    current_row = [i] + [0] * m\n",
        "    for j in range(1, m + 1):\n",
        "      left = current_row[j-1] + 1\n",
        "      up = previous_row[j] + 1\n",
        "      left_up = previous_row[j-1]\n",
        "      if str_1[i-1] != str_2[j-1]:\n",
        "        left_up += 1\n",
        "\n",
        "  return current_row[-1]"
      ]
    }
  ]
}