{
  "nbformat": 4,
  "nbformat_minor": 0,
  "metadata": {
    "colab": {
      "provenance": []
    },
    "kernelspec": {
      "name": "python3",
      "display_name": "Python 3"
    },
    "language_info": {
      "name": "python"
    }
  },
  "cells": [
    {
      "cell_type": "markdown",
      "source": [
        "## Создание массива слов\n",
        "Для того, чтобы находить и исправлять опечатки с помощью расстояния Левенштейна, сперва необходимо создать массив слов, чтобы мы могли найти правильно написанный вариант слова, в котором допустили опечатку.\n",
        "\n",
        "Для этого мы извлёчем все слова из корпуса. Корпус это массив языковых данных, например письменных текстов, аудиозаписей и так далее. Корпуса представлены в электронном виде для решения разных задач. Например, для решения нашей задачи."
      ],
      "metadata": {
        "id": "C7LtQCKSRJcm"
      }
    },
    {
      "cell_type": "markdown",
      "source": [
        "### Загрузка корпуса\n",
        "Мы воспользуемся одним из немногих доступных корпусов английского языка — Brown Corpus. Для начала необходимо добавить корпус в google colab. Следуй инструкции:\n",
        "1. Открываем files google colab (папка в панель слева).\n",
        "2. Нажимаем левой кнопкой мыши по папке с названием \"...\".\n",
        "3. Нажимаем \"новая папка\"/\"new folder\".\n",
        "4. В качестве названия указываем Brown.\n",
        "5. Кликаем левой кнопкой мыши по папке Brown.\n",
        "6. Нажимаем \"загрузить\"/\"upload\".\n",
        "7. Находим корневую папку проекта.\n",
        "8. Открываем в корневой папке проекта папку Brown.\n",
        "9. Выделяем все файлы комбинацией клавиш \"ctrl + A\".\n",
        "10. Нажимаем \"открыть\"/\"open\".\n",
        "\n",
        "После того, как все файлы прогрузятся (около минуты) перейдём к следующей задаче."
      ],
      "metadata": {
        "id": "ZUxbkBq6S4hd"
      }
    },
    {
      "cell_type": "markdown",
      "source": [
        "### Обработка корпуса\n",
        "После того, как мы загрузили корпус, необходимо представить все эти текстовые файлы в удобном для нас формате. Проще всего будет воспользоваться функционалом библиотеки corpus_toolkit. Запусти код ниже, чтобы установить всё необходимое:"
      ],
      "metadata": {
        "id": "2yF_6zK_XBYR"
      }
    },
    {
      "cell_type": "code",
      "source": [
        "!pip install corpus-toolkit  # Устанавливаем библиотеку в google colab\n",
        "\n",
        "from corpus_toolkit import corpus_tools as ct  # Импортируем библиотеку\n",
        "import spacy  # Импортируем вспомогательную библиотеку"
      ],
      "metadata": {
        "id": "fJDRLvp_m8rB"
      },
      "execution_count": null,
      "outputs": []
    },
    {
      "cell_type": "markdown",
      "source": [
        "Эта библиотека создана для создания так называемых словарей частотностей. Это такие пары ключ-значение, где ключ это слово, а значение количество появлений в корпусе. Мы создадим словарь частотности, а затем вытащим из него все ключи, воспользовавшись кодом из [документации](https://github.com/kristopherkyle/corpus_toolkit)"
      ],
      "metadata": {
        "id": "U9T6lfPkYJCB"
      }
    },
    {
      "cell_type": "code",
      "source": [
        "brown_corp = ct.ldcorpus('Brown')  # Загружаем корпус\n",
        "tok_corp = ct.tokenize(brown_corp)  # Токенизируем корпус\n",
        "brown_freq = ct.frequency(tok_corp)  # Создаём словарь частотности"
      ],
      "metadata": {
        "id": "IFR5iaLOm-ok"
      },
      "execution_count": null,
      "outputs": []
    },
    {
      "cell_type": "markdown",
      "source": [
        "Давайте посмотрим действительно ли всё сработало, выведем самые частотные слова корпуса:"
      ],
      "metadata": {
        "id": "rCeCnEQbZaJf"
      }
    },
    {
      "cell_type": "code",
      "source": [
        "ct.head(brown_freq, hits = 5)  # Вывод 5 самых частотных слов"
      ],
      "metadata": {
        "id": "ERayTVS9m_t6"
      },
      "execution_count": null,
      "outputs": []
    },
    {
      "cell_type": "markdown",
      "source": [
        "Отлично, теперь постараемся разобраться с тем, что такое словарь и как извлечь из него ключи. Словарь это тип данных на python, который позволяет хранить пары ключ-значение, например:"
      ],
      "metadata": {
        "id": "KSE5GlVLZmjm"
      }
    },
    {
      "cell_type": "code",
      "source": [
        "# Словарь иницилизируется с помощью фигурных скобок {}\n",
        "grammy_awards_dict = {\n",
        "    'Kanye West': 24,  # Внутри словаря мы пишем ключ, затем двоеточие,\n",
        "                       # а затем значение\n",
        "    'Jay-Z': 24,\n",
        "    'Beyoncé': 32\n",
        "}\n",
        "\n",
        "# Выведем словарь, чтобы посмотреть, что у нас получилось\n",
        "print(grammy_awards_dict)"
      ],
      "metadata": {
        "id": "EQWNJxyunBS1"
      },
      "execution_count": null,
      "outputs": []
    },
    {
      "cell_type": "markdown",
      "source": [
        "Зная ключ словаря, мы можем найти значение. Для этого мы напишем ключ справа от переменной словаря:"
      ],
      "metadata": {
        "id": "7cn2pEiialSD"
      }
    },
    {
      "cell_type": "code",
      "source": [
        "# Узнаем количество грэмми у Канье Веста\n",
        "print(grammy_awards_dict['Kanye West'])"
      ],
      "metadata": {
        "id": "iGzkuWunnC9S"
      },
      "execution_count": null,
      "outputs": []
    },
    {
      "cell_type": "markdown",
      "source": [
        "Обратись к словарю частотности `brown_freq` и узнай частотность какого-нибудь английского слова:"
      ],
      "metadata": {
        "id": "GKJXYNy1a1pm"
      }
    },
    {
      "cell_type": "code",
      "source": [],
      "metadata": {
        "id": "aUXGjVo5a1BJ"
      },
      "execution_count": null,
      "outputs": []
    },
    {
      "cell_type": "markdown",
      "source": [
        "Также мы можем отдельно получить все ключи или значения словаря, или и те и другие:"
      ],
      "metadata": {
        "id": "ivnrmyc_bHF4"
      }
    },
    {
      "cell_type": "code",
      "source": [
        "print(grammy_awards_dict.keys())  # Выведем все ключи"
      ],
      "metadata": {
        "id": "5enEMaWonasj"
      },
      "execution_count": null,
      "outputs": []
    },
    {
      "cell_type": "code",
      "source": [
        "print(grammy_awards_dict.values())  # Выведем все значения"
      ],
      "metadata": {
        "id": "nDXB3esPnajn"
      },
      "execution_count": null,
      "outputs": []
    },
    {
      "cell_type": "code",
      "source": [
        "print(grammy_awards_dict.items())  # Выведем все пары ключ-значение"
      ],
      "metadata": {
        "id": "YyJpHtkCnaWT"
      },
      "execution_count": null,
      "outputs": []
    },
    {
      "cell_type": "markdown",
      "source": [
        "Отлично! Нас интересуют только ключи словаря частотности, но нам не подходит формат dict_keys (он указан в выводе ключей `grammy_awards_dict`). Сделаем из этого список и сохраним в отдельной переменной"
      ],
      "metadata": {
        "id": "_Qez31NGbeUZ"
      }
    },
    {
      "cell_type": "code",
      "source": [
        "grammy_awards_keys = list(grammy_awards_dict.keys())\n",
        "\n",
        "print(grammy_awards_keys)  # Теперь у нас есть list, то есть список.\n",
        "                           # Со списком работать гораздо удобнее"
      ],
      "metadata": {
        "id": "V_Qq3dBOnGDk"
      },
      "execution_count": null,
      "outputs": []
    },
    {
      "cell_type": "markdown",
      "source": [
        "Теперь сделай список ключей для словаря частотности `brown_freq`:"
      ],
      "metadata": {
        "id": "Cn-Lxp71b6GR"
      }
    },
    {
      "cell_type": "code",
      "source": [],
      "metadata": {
        "id": "ijSeuCLjbzvX"
      },
      "execution_count": null,
      "outputs": []
    },
    {
      "cell_type": "markdown",
      "source": [
        "Мы можем узнать, как много ключей в словаре, вызвав функцию\n",
        "`len()` и поместив в круглые скобки наш список ключей, напиши это ниже:"
      ],
      "metadata": {
        "id": "vzGkAFoRceEu"
      }
    },
    {
      "cell_type": "code",
      "source": [],
      "metadata": {
        "id": "mrur5h2ycdmP"
      },
      "execution_count": null,
      "outputs": []
    },
    {
      "cell_type": "markdown",
      "source": [
        "Отлично, у тебя прекрасно получается!"
      ],
      "metadata": {
        "id": "ajwFJ7g5cpnk"
      }
    },
    {
      "cell_type": "markdown",
      "source": [
        "### Сохранение списка слов в виде json массива\n",
        "Если мы каждый раз будем загружать весь корпус для того, чтобы извлечь список, у нас будет уходить на это несколько секунд. Кажется, что это немного, но кто станет ждать 5 секунд, чтобы увидеть свои опечатки? Мы воспользуемся одним из самых удобных форматов хранения данных — json.\n",
        "\n",
        "JSON (JavaScript Object Notation) — текстовый формат обмена данными. Бывают json объекты, массивы, строки, числа и литералы. Нас будет интересовать json массив, то есть просто список элементов. В качестве элементов будут наши слова.\n",
        "\n",
        "Но для начала разберёмся с тем, как на python работать с файлами. Всё, что нужно сейчас это простая конструкция ниже:"
      ],
      "metadata": {
        "id": "OHHkAiXHfyd3"
      }
    },
    {
      "cell_type": "code",
      "source": [
        "with open('Brown/ca_ca01.txt', 'r') as file:\n",
        "  print(file.read())"
      ],
      "metadata": {
        "id": "9rmg8W76nOvM"
      },
      "execution_count": null,
      "outputs": []
    },
    {
      "cell_type": "markdown",
      "source": [
        "Мы открыли файл из корпуса, указав в аргументе функции open() путь к файлу в кавычках и способ взаимодействия: `'r'` это чтение (read), `'w'` это чтение и ввод (write). Если мы укажем `'w'` вместо `'r'`, то при отсутствии файла, он будет автоматически создан. Поменяй способ взаимодействия и запусти код. В files google colab должен появиться новый файл:"
      ],
      "metadata": {
        "id": "uVpoAYp0ik-R"
      }
    },
    {
      "cell_type": "code",
      "source": [
        "with open('new_file.json', 'r') as f:  # Поменяй r на w\n",
        "  pass  # pass значит отсутствие действия"
      ],
      "metadata": {
        "id": "1wOQUG2tjJIs"
      },
      "execution_count": null,
      "outputs": []
    },
    {
      "cell_type": "markdown",
      "source": [
        "Теперь импортируем библиотеку json и воспользуемся методом dump. В files google colab должен появиться массив после выполнения следующего кода:"
      ],
      "metadata": {
        "id": "ORik-dyxjdxc"
      }
    },
    {
      "cell_type": "code",
      "source": [
        "import json\n",
        "\n",
        "with open('words_massive.json', 'w') as f:\n",
        "  json.dump(brown_freq_keys, f)  # В качестве аргумента функции указываем то,\n",
        "                                 # что мы хотим сохранить, то есть список слов\n",
        "                                 # и то, куда мы хотим сохранить, то есть в\n",
        "                                 # созданный нам файл f"
      ],
      "metadata": {
        "id": "5vGf6T3InRRp"
      },
      "execution_count": null,
      "outputs": []
    },
    {
      "cell_type": "markdown",
      "source": [
        "Вы можете открыть его двойным щелчком и посмотреть, что там действительно внутри все слова из нашего корпуса. Однако нам нужно будет использовать этот массив на python, а поэтому придётся загрузить json файл в переменную с помощью библиотеки. Для этого напиши простой код:\n",
        "\n",
        "1. Открой файл words_massive для чтения.\n",
        "3. Присвой переменной words_massive значение функции `json.load()`, указав в аргументе файл."
      ],
      "metadata": {
        "id": "y4AO2sWMkI71"
      }
    },
    {
      "cell_type": "code",
      "source": [],
      "metadata": {
        "id": "VsBLmz4qktQW"
      },
      "execution_count": null,
      "outputs": []
    },
    {
      "cell_type": "code",
      "source": [
        "# Запусти этот код, чтобы проверить сколько слов в нашем списке\n",
        "\n",
        "print(len(words_massive))"
      ],
      "metadata": {
        "id": "9eXLG3XCnT2H"
      },
      "execution_count": null,
      "outputs": []
    },
    {
      "cell_type": "markdown",
      "source": [
        "### Создание функции\n",
        "Только что ты создал в отдельных ячейках кода создание списка слов из корпуса. Но нам будет удобнее поместить это в функцию, которую мы сможем легко перемещать и использовать. Что такое функции и с чем их едят? Разберёмся на примере:"
      ],
      "metadata": {
        "id": "XvuLrCaJcIXD"
      }
    },
    {
      "cell_type": "code",
      "source": [
        "def sum_numbers(a, b):\n",
        "  return a + b\n",
        "\n",
        "print(sum_numbers(5, 10))"
      ],
      "metadata": {
        "id": "plU3v8eFnVFa"
      },
      "execution_count": null,
      "outputs": []
    },
    {
      "cell_type": "markdown",
      "source": [
        "Вот наглядный пример функции, которая складывает 2 числа, которые передаются ей в качестве аргумента, то есть те числа, которые мы пишем внутри круглых скобок функции:\n",
        "\n",
        "```sum_numbers(5, 10)  # 5 и 10 это числа, они же аргумент функции```\n",
        "\n",
        "Напиши свою функцию, которая будет отнимать числа:"
      ],
      "metadata": {
        "id": "XO8Sl4d1dLQp"
      }
    },
    {
      "cell_type": "code",
      "source": [],
      "metadata": {
        "id": "Mq3SPYtQdKhH"
      },
      "execution_count": null,
      "outputs": []
    },
    {
      "cell_type": "markdown",
      "source": [
        "Скорее всего у тебя получилось повторить пример. Давай разберём, как ты это сделал:\n",
        "\n",
        "1. `def` это такое кодовое слово, с которого мы начинаем нашу функцию.\n",
        "2. После `def` идёт название функции. Оно может быть каким угодно, но лучше не повторять названий уже существующих функций, иначе можно натворить дел.\n",
        "3. После названия в круглых скобках указываем аргумент. Его может вовсе не быть, он может быть необязательным (значения указаны по умолчанию) или он может быть обязательным, как в нашем примере.\n",
        "4. Заканчивается всё двоеточием, после которого у нас начинается \"территория\" нашей функции, в которую входят строки, которые начинаются с нескольких пробелов от начала и заканчивается теми строками, которые находятся на уровне def:\n",
        "```\n",
        "def blah_blah():\n",
        "      # территория функции\n",
        "      # территория функции\n",
        "      # территория функции\n",
        "# территория вне функции\n",
        "```\n",
        "5. В \"теле\" функции мы определяем действия, которые будет совершать функция при вызове. В нашем примере это return, то есть мы получим обратно какое-то значение, в нашем случае разность двух чисел.\n",
        "\n",
        "Чтобы проверить, как ты усвоил информацию, создай функцию\n",
        "`get_words_massive()`, которая будет открывать файл words_massive.json и читать массив слов в переменную. Переменную нужно будет вернуть с помощью return"
      ],
      "metadata": {
        "id": "FWusfL2fdwUF"
      }
    },
    {
      "cell_type": "code",
      "source": [
        "def get_words_massive():\n",
        "  # Открой words_massive.json и с помощью json загрузи массив в переменную\n",
        "\n",
        "\n",
        "  # Верни переменную с помощью return"
      ],
      "metadata": {
        "id": "1E0l4O4Kfllx"
      },
      "execution_count": null,
      "outputs": []
    },
    {
      "cell_type": "code",
      "source": [
        "# Запусти этот код, чтобы проверить сколько слов в нашем массиве\n",
        "print(len(get_words_massive()))"
      ],
      "metadata": {
        "id": "YAAVvf_xnYSx"
      },
      "execution_count": null,
      "outputs": []
    },
    {
      "cell_type": "markdown",
      "source": [
        "Поздравляю, ты отлично справился/справилась :)\n",
        "Теперь, пожалуйста, скачай файл words_massive.json в корневую папку проекта, нажав по нему левой кнопкой мыши, а затем \"скачать\"/\"download\""
      ],
      "metadata": {
        "id": "ldBXitKVmgwX"
      }
    }
  ]
}